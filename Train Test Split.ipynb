{
 "cells": [
  {
   "cell_type": "markdown",
   "id": "b0dd78da",
   "metadata": {},
   "source": [
    "# Train Test Split"
   ]
  },
  {
   "cell_type": "markdown",
   "id": "5bef1c85",
   "metadata": {},
   "source": [
    "## Import the relevant libraries"
   ]
  },
  {
   "cell_type": "code",
   "execution_count": 1,
   "id": "c9623982",
   "metadata": {},
   "outputs": [],
   "source": [
    "import numpy as np\n",
    "from sklearn.model_selection import train_test_split"
   ]
  },
  {
   "cell_type": "markdown",
   "id": "80e3d066",
   "metadata": {},
   "source": [
    "## Generate some data we are going to splkit"
   ]
  },
  {
   "cell_type": "code",
   "execution_count": 3,
   "id": "7d733006",
   "metadata": {},
   "outputs": [
    {
     "data": {
      "text/plain": [
       "array([  1,   2,   3,   4,   5,   6,   7,   8,   9,  10,  11,  12,  13,\n",
       "        14,  15,  16,  17,  18,  19,  20,  21,  22,  23,  24,  25,  26,\n",
       "        27,  28,  29,  30,  31,  32,  33,  34,  35,  36,  37,  38,  39,\n",
       "        40,  41,  42,  43,  44,  45,  46,  47,  48,  49,  50,  51,  52,\n",
       "        53,  54,  55,  56,  57,  58,  59,  60,  61,  62,  63,  64,  65,\n",
       "        66,  67,  68,  69,  70,  71,  72,  73,  74,  75,  76,  77,  78,\n",
       "        79,  80,  81,  82,  83,  84,  85,  86,  87,  88,  89,  90,  91,\n",
       "        92,  93,  94,  95,  96,  97,  98,  99, 100])"
      ]
     },
     "execution_count": 3,
     "metadata": {},
     "output_type": "execute_result"
    }
   ],
   "source": [
    "a = np.arange(1, 101)\n",
    "a"
   ]
  },
  {
   "cell_type": "code",
   "execution_count": 7,
   "id": "c884c5f8",
   "metadata": {},
   "outputs": [
    {
     "data": {
      "text/plain": [
       "array([501, 502, 503, 504, 505, 506, 507, 508, 509, 510, 511, 512, 513,\n",
       "       514, 515, 516, 517, 518, 519, 520, 521, 522, 523, 524, 525, 526,\n",
       "       527, 528, 529, 530, 531, 532, 533, 534, 535, 536, 537, 538, 539,\n",
       "       540, 541, 542, 543, 544, 545, 546, 547, 548, 549, 550, 551, 552,\n",
       "       553, 554, 555, 556, 557, 558, 559, 560, 561, 562, 563, 564, 565,\n",
       "       566, 567, 568, 569, 570, 571, 572, 573, 574, 575, 576, 577, 578,\n",
       "       579, 580, 581, 582, 583, 584, 585, 586, 587, 588, 589, 590, 591,\n",
       "       592, 593, 594, 595, 596, 597, 598, 599, 600])"
      ]
     },
     "execution_count": 7,
     "metadata": {},
     "output_type": "execute_result"
    }
   ],
   "source": [
    "b = np.arange(501, 601)\n",
    "b"
   ]
  },
  {
   "cell_type": "markdown",
   "id": "7a002808",
   "metadata": {},
   "source": [
    "## Split the data"
   ]
  },
  {
   "cell_type": "code",
   "execution_count": 8,
   "id": "361f8159",
   "metadata": {},
   "outputs": [
    {
     "data": {
      "text/plain": [
       "[array([ 47,  84,  46,  71,   7,  30,  78,  25,  64,  93,  43,  86,  29,\n",
       "          1,  87,  32,  44,  34,  73,  56,  36,  26,  35,  88,  42,  21,\n",
       "         70,  50,   4,  17,  66,  33,  27,  48,  16,   6,  81,  63,  18,\n",
       "         72,  57,   2,  12,  94,  98,  77,  97,   8,  95,  80,  37,  58,\n",
       "         24,  14,  89,  52,  39,  45,  11,   5,  62,  23,  40, 100,  65,\n",
       "         55,  82,  20,  41,  10,  74,  99,  53,  38,   3]),\n",
       " array([90, 49, 75, 15, 60, 22, 61, 92, 68, 91, 51, 79,  9, 54, 31, 13, 96,\n",
       "        85, 59, 69, 28, 19, 67, 76, 83])]"
      ]
     },
     "execution_count": 8,
     "metadata": {},
     "output_type": "execute_result"
    }
   ],
   "source": [
    "train_test_split(a)"
   ]
  },
  {
   "cell_type": "code",
   "execution_count": 29,
   "id": "2b08344b",
   "metadata": {},
   "outputs": [],
   "source": [
    "a_train, a_test, b_train, b_test = train_test_split(a, b, test_size = 0.2)"
   ]
  },
  {
   "cell_type": "markdown",
   "id": "b98d6023",
   "metadata": {},
   "source": [
    "## Explore the result"
   ]
  },
  {
   "cell_type": "code",
   "execution_count": 24,
   "id": "3651e74e",
   "metadata": {},
   "outputs": [
    {
     "data": {
      "text/plain": [
       "((80,), (20,))"
      ]
     },
     "execution_count": 24,
     "metadata": {},
     "output_type": "execute_result"
    }
   ],
   "source": [
    "a_train.shape, a_test.shape"
   ]
  },
  {
   "cell_type": "code",
   "execution_count": 25,
   "id": "be99bc1b",
   "metadata": {},
   "outputs": [
    {
     "data": {
      "text/plain": [
       "array([ 80,  89,  66,  73,  87,  15,  16,  24,  86,  12,  47,  76,  97,\n",
       "        45,  38,  95,  48,  75,  64,  14,  27,  65,  91,  42,  43,  56,\n",
       "         1,  78,  30,  21,  81,  72,  92,  96,  18,  46,  70,  54,  10,\n",
       "         7,  90,  31,  85,   3,   4,  98,  69,  52,  57,  40,  37,  63,\n",
       "         9,   5,  20,  49,  67,  36,  83,  79,  60,  68,  35,  34,   8,\n",
       "        25,  50,  22,   6,   2,  17,  59,  41,  51,  44,  62,  74,  88,\n",
       "       100,  19])"
      ]
     },
     "execution_count": 25,
     "metadata": {},
     "output_type": "execute_result"
    }
   ],
   "source": [
    "a_train"
   ]
  },
  {
   "cell_type": "code",
   "execution_count": 26,
   "id": "14e093aa",
   "metadata": {},
   "outputs": [
    {
     "data": {
      "text/plain": [
       "array([77, 13, 99, 82, 33, 58, 23, 94, 55, 71, 32, 84, 39, 61, 53, 29, 28,\n",
       "       93, 26, 11])"
      ]
     },
     "execution_count": 26,
     "metadata": {},
     "output_type": "execute_result"
    }
   ],
   "source": [
    "a_test"
   ]
  },
  {
   "cell_type": "code",
   "execution_count": 30,
   "id": "182f0741",
   "metadata": {},
   "outputs": [
    {
     "data": {
      "text/plain": [
       "((80,), (20,))"
      ]
     },
     "execution_count": 30,
     "metadata": {},
     "output_type": "execute_result"
    }
   ],
   "source": [
    "b_train.shape, b_test.shape"
   ]
  },
  {
   "cell_type": "code",
   "execution_count": 31,
   "id": "9544b520",
   "metadata": {},
   "outputs": [
    {
     "data": {
      "text/plain": [
       "array([514, 556, 587, 597, 591, 525, 518, 571, 509, 503, 573, 577, 544,\n",
       "       538, 589, 553, 541, 594, 540, 521, 520, 580, 506, 532, 590, 545,\n",
       "       533, 549, 554, 579, 530, 576, 539, 565, 543, 572, 531, 529, 501,\n",
       "       581, 584, 566, 512, 564, 561, 588, 557, 505, 515, 599, 552, 598,\n",
       "       560, 542, 535, 507, 551, 508, 555, 528, 522, 585, 558, 596, 567,\n",
       "       537, 578, 516, 526, 547, 562, 568, 559, 595, 510, 586, 593, 534,\n",
       "       527, 583])"
      ]
     },
     "execution_count": 31,
     "metadata": {},
     "output_type": "execute_result"
    }
   ],
   "source": [
    "b_train"
   ]
  },
  {
   "cell_type": "code",
   "execution_count": 32,
   "id": "da33d07f",
   "metadata": {},
   "outputs": [
    {
     "data": {
      "text/plain": [
       "array([582, 519, 569, 575, 536, 600, 550, 523, 563, 574, 592, 502, 524,\n",
       "       513, 517, 570, 504, 548, 546, 511])"
      ]
     },
     "execution_count": 32,
     "metadata": {},
     "output_type": "execute_result"
    }
   ],
   "source": [
    "b_test"
   ]
  }
 ],
 "metadata": {
  "kernelspec": {
   "display_name": "Python 3 (ipykernel)",
   "language": "python",
   "name": "python3"
  },
  "language_info": {
   "codemirror_mode": {
    "name": "ipython",
    "version": 3
   },
   "file_extension": ".py",
   "mimetype": "text/x-python",
   "name": "python",
   "nbconvert_exporter": "python",
   "pygments_lexer": "ipython3",
   "version": "3.9.13"
  }
 },
 "nbformat": 4,
 "nbformat_minor": 5
}
